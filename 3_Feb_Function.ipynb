{
 "cells": [
  {
   "cell_type": "code",
   "execution_count": null,
   "id": "150adf3f-e283-4672-8d83-9c477cf89fff",
   "metadata": {},
   "outputs": [],
   "source": [
    "# Q1. Which keyword is used to create a function? Create a function to return a list of odd numbers in the range of 1 to 25.\n",
    "\n",
    "#### The keyword \"def\" is used to create a function in Python. Here's a code snippet that returns a list of odd numbers in the range of 1 to 25:\n",
    "def oddnum():\n",
    "    odd_list = []\n",
    "    for i in range(1,26):\n",
    "        if i%2 != 0:\n",
    "            odd_list.append(i)\n",
    "    return odd_list\n",
    "print(oddnum())"
   ]
  },
  {
   "cell_type": "code",
   "execution_count": null,
   "id": "90712c43-15c3-4077-b353-9974960cd885",
   "metadata": {},
   "outputs": [],
   "source": []
  },
  {
   "cell_type": "code",
   "execution_count": 22,
   "id": "6abe1866-0d47-4ffb-965a-064e6dba6a3e",
   "metadata": {},
   "outputs": [
    {
     "data": {
      "text/plain": [
       "{'a': 1, 'b': 2, 'c': 'Data Science', 'd': ['Krish', 'Sudhanshu']}"
      ]
     },
     "execution_count": 22,
     "metadata": {},
     "output_type": "execute_result"
    }
   ],
   "source": [
    "# Q2. Why *args and **kwargs is used in some functions? Create a function each for *args and **kwargs to demonstrate their use.\n",
    "\n",
    "#### *args and **kwargs are used in functions to pass a variable number of arguments to the function.\n",
    "\n",
    "#### *args is used to send a non-keyworded variable length argument list to the function. It allows you to pass an arbitrary number of arguments as a tuple.\n",
    "\n",
    "#### **kwargs is used to send a keyworded (key-value pair) variable length argument list to the function. It allows you to pass an arbitrary number of keyworded arguments as a dictionary.\n",
    "\n",
    "#### Here's a function that demonstrates the use of *args:\n",
    "\n",
    "def args(*args):\n",
    "    return args\n",
    "args(1,2,3.44,'Nimish',['Ineuron','Pwskills',404])\n",
    "\n",
    "#### And here's a function that demonstrates the use of **kwargs:\n",
    "\n",
    "def kwargs(**nimish):\n",
    "    return nimish\n",
    "kwargs(a=1,b=2,c='Data Science',d=['Krish','Sudhanshu'])"
   ]
  },
  {
   "cell_type": "code",
   "execution_count": 47,
   "id": "be6cee83-b8c7-4e19-8a93-a8936c00eacb",
   "metadata": {},
   "outputs": [
    {
     "name": "stdout",
     "output_type": "stream",
     "text": [
      "2\n",
      "4\n",
      "6\n",
      "8\n",
      "10\n"
     ]
    }
   ],
   "source": [
    "# Q3. What is an iterator in python? Name the method used to initialise the iterator object and the method used for iteration. Use these methods to \n",
    "# print the first five elements of the given list [2, 4, 6, 8, 10, 12, 14, 16, 18, 20].\n",
    "\n",
    "#### Iterator in Python is an object that is used to iterate upon, meaning that you can traverse through all the values over iterable objects like \n",
    "#### lists, tuples, dicts, and sets. The iterator object is initialized using the iter() method. It uses the next() method for iteration.\n",
    "\n",
    "#### 1.__iter__(): The iter() method is called for the initialization of an iterator. This returns an iterator object itself. The purpose of this \n",
    "#### method is to make the object iterable.\n",
    "#### 2.__next__(): The next method returns the next value for the iterable. When we use a for loop to traverse any iterable object, internally it uses\n",
    "#### the iter() method to get an iterator object, which further uses the next() method to iterate over. This method raises a StopIteration to signal the\n",
    "#### end ofthe iteration.If there are no more items to return, it should raise StopIteration.\n",
    "\n",
    "#### Here's a code snippet that demonstrates how to use these methods to print the first five elements of the list [2, 4, 6, 8, 10, 12, 14, 16, 18, 20]\n",
    "\n",
    "List = [2, 4, 6, 8, 10, 12, 14, 16, 18, 20]\n",
    "\n",
    "initializing_as_iterator = iter(list)\n",
    "\n",
    "for i in range(5):\n",
    "    print(next(initializing_as_iterator))\n"
   ]
  },
  {
   "cell_type": "code",
   "execution_count": null,
   "id": "c13d2c87-7550-4196-b3c7-906fe673c6c3",
   "metadata": {},
   "outputs": [],
   "source": []
  },
  {
   "cell_type": "code",
   "execution_count": 80,
   "id": "606a135f-9ebc-4fcb-be89-00b594300ea9",
   "metadata": {},
   "outputs": [
    {
     "name": "stdout",
     "output_type": "stream",
     "text": [
      "1\n",
      "4\n",
      "9\n",
      "16\n",
      "25\n",
      "36\n",
      "49\n",
      "64\n",
      "81\n",
      "100\n",
      "Iterating Generator function using next() \n",
      "1\n",
      "4\n",
      "9\n",
      "16\n",
      "25\n",
      "36\n",
      "49\n",
      "64\n",
      "81\n",
      "100\n"
     ]
    }
   ],
   "source": [
    "# Q4. What is a generator function in python? Why yield keyword is used? Give an example of a generator function.\n",
    "\n",
    "#### A Generator is a function that returns an object (iterator) same as iter() function, which we can iterate over, but one value at a time. A generator\n",
    "#### function in Python is a function that uses the yield keyword instead of the return keyword. When a generator function is called, it returns a\n",
    "#### generator object, which can be iterated over using a for loop or next() function. The yield keyword causes the function to pause and return the\n",
    "#### value of the expression following yield, and then resume execution from the point where it left off the next time the generator is called.\n",
    "\n",
    "#### To create a generator function in Python, yield keyword is used instead of return statement in normal function. Generator function contains\n",
    "#### one or more yield statement which returns an object (iterator) but does not start execution immediately.\n",
    "#### It can be iterated using next() function or used with for in loop which internally calls next function.\n",
    "\n",
    "#### Python executes code in generator function until it comes to a yield statement, then pauses and delivers the object. When you extract another \n",
    "#### object, Python resumes just after the yield and continues until it reaches another yield. It continues till end. As it only produces one item \n",
    "#### at a time. So it is memory efficient and used to represent Infinite stream.\n",
    "\n",
    "#### The use of generator functions makes it possible to produce a sequence of values without creating the entire list in memory, which can be useful\n",
    "#### when working with large amounts of data.\n",
    "\n",
    "def square_generator(a):\n",
    "    for i in range(1, a+1):\n",
    "        yield i**2\n",
    "for i in square_generator(10):\n",
    "    print(i)\n",
    "\n",
    "print('Iterating Generator function using next() ')\n",
    "\n",
    "gen = square_generator(10)\n",
    "print(next(gen))\n",
    "print(next(gen))\n",
    "print(next(gen))\n",
    "print(next(gen))\n",
    "print(next(gen))\n",
    "print(next(gen))\n",
    "print(next(gen))\n",
    "print(next(gen))\n",
    "print(next(gen))\n",
    "print(next(gen))"
   ]
  },
  {
   "cell_type": "code",
   "execution_count": null,
   "id": "a10a7a96-e354-46e2-8baf-3f3f298e3d6a",
   "metadata": {},
   "outputs": [],
   "source": []
  },
  {
   "cell_type": "code",
   "execution_count": 81,
   "id": "8e3bf3ac-1b62-4fad-a7c1-c995e284e459",
   "metadata": {},
   "outputs": [
    {
     "name": "stdout",
     "output_type": "stream",
     "text": [
      "2\n",
      "3\n",
      "5\n",
      "7\n",
      "11\n",
      "13\n",
      "17\n",
      "19\n",
      "23\n",
      "29\n",
      "31\n",
      "37\n",
      "41\n",
      "43\n",
      "47\n",
      "53\n",
      "59\n",
      "61\n",
      "67\n",
      "71\n"
     ]
    }
   ],
   "source": [
    "# Q5. Create a generator function for prime numbers less than 1000. Use the next() method to print the first 20 prime numbers.\n",
    "\n",
    "def prime_numbers(limit):\n",
    "    for num in range(2, limit):\n",
    "        for i in range(2, num):\n",
    "            if (num % i) == 0:\n",
    "                break\n",
    "        else:\n",
    "            yield num\n",
    "\n",
    "gen = prime_numbers(1000)\n",
    "\n",
    "for i in range(20):\n",
    "    print(next(gen))"
   ]
  },
  {
   "cell_type": "code",
   "execution_count": null,
   "id": "600e8a4c-faee-4030-ad47-abc11f014ae0",
   "metadata": {},
   "outputs": [],
   "source": []
  },
  {
   "cell_type": "code",
   "execution_count": null,
   "id": "5ae63e8e-e5cb-4a32-8db9-9c1db533b5c7",
   "metadata": {},
   "outputs": [],
   "source": []
  },
  {
   "cell_type": "code",
   "execution_count": null,
   "id": "718b183a-3625-4192-83aa-1584636797a3",
   "metadata": {},
   "outputs": [],
   "source": []
  },
  {
   "cell_type": "code",
   "execution_count": null,
   "id": "235a964f-edc8-4fe9-9914-3ce86fcd01c1",
   "metadata": {},
   "outputs": [],
   "source": []
  }
 ],
 "metadata": {
  "kernelspec": {
   "display_name": "Python 3 (ipykernel)",
   "language": "python",
   "name": "python3"
  },
  "language_info": {
   "codemirror_mode": {
    "name": "ipython",
    "version": 3
   },
   "file_extension": ".py",
   "mimetype": "text/x-python",
   "name": "python",
   "nbconvert_exporter": "python",
   "pygments_lexer": "ipython3",
   "version": "3.10.8"
  }
 },
 "nbformat": 4,
 "nbformat_minor": 5
}
